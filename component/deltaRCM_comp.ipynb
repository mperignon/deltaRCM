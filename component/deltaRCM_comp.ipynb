{
 "cells": [
  {
   "cell_type": "code",
   "execution_count": 75,
   "metadata": {
    "collapsed": false
   },
   "outputs": [
    {
     "name": "stdout",
     "output_type": "stream",
     "text": [
      "Reading input file...\n",
      "Finished reading 26 variables from input file.\n",
      "--------------------\n",
      "Time = 1 of 10\n",
      "--------------------\n",
      "Time = 2 of 10\n",
      "--------------------\n",
      "Time = 3 of 10\n",
      "--------------------\n",
      "Time = 4 of 10\n",
      "--------------------\n",
      "Time = 5 of 10\n",
      "--------------------\n",
      "Time = 6 of 10\n",
      "--------------------\n",
      "Time = 7 of 10\n",
      "--------------------\n",
      "Time = 8 of 10\n",
      "--------------------\n",
      "Time = 9 of 10\n",
      "--------------------\n",
      "Time = 10 of 10\n"
     ]
    }
   ],
   "source": [
    "import deltaRCM_base\n",
    "reload(deltaRCM_base)\n",
    "import matplotlib.pyplot as plt\n",
    "%matplotlib inline\n",
    "import numpy as np\n",
    "\n",
    "class deltaRCM(deltaRCM_base.Tools):\n",
    "\n",
    "    _input_vars = {\n",
    "        'model_output__site_prefix': {'name':'site_prefix', 'type': 'string', 'default': ''},\n",
    "        'model_output__case_prefix': {'name':'case_prefix', 'type': 'string', 'default': ''},\n",
    "        'model_output__out_dir': {'name':'out_dir', 'type': 'string', 'default': 'deltaRCM_Output/'},\n",
    "        'model__total_timesteps': {'name':'n_steps', 'type': 'long', 'default': 200},\n",
    "        'model_grid__length': {'name':'Length', 'type': 'float', 'default': 200.},\n",
    "        'model_grid__width': {'name':'Width', 'type': 'float', 'default': 500.},\n",
    "        'model_grid__cell_size': {'name':'dx', 'type': 'float', 'default': 10.},\n",
    "        'land_surface__width': {'name':'L0_meters', 'type': 'float', 'default': 30.}, \n",
    "        'land_surface__slope': {'name':'S0', 'type': 'float', 'default': 0.00015},\n",
    "        'model__max_iteration': {'name':'itermax', 'type': 'long', 'default': 3},\n",
    "        'water__number_parcels': {'name':'Np_water', 'type': 'long', 'default': 200},\n",
    "        'channel__flow_velocity': {'name':'u0', 'type': 'float', 'default': 1.},\n",
    "        'channel__width': {'name':'N0_meters', 'type': 'float', 'default': 50.},\n",
    "        'channel__flow_depth': {'name':'h0', 'type': 'float', 'default': 5.},\n",
    "        'sea_water_surface__elevation': {'name':'H_SL', 'type': 'float', 'default': 0.},\n",
    "        'sea_water_surface__rate_change_elevation': {'name':'SLR', 'type': 'float', 'default': 0.},\n",
    "        'sediment__number_parcels': {'name':'Np_sed', 'type': 'long', 'default': 500},\n",
    "        'sediment__bedload_fraction': {'name':'f_bedload', 'type': 'float', 'default': 0.25}, \n",
    "        'sediment__influx_concentration': {'name':'C0_percent', 'type': 'float', 'default': 0.1},                   \n",
    "        'model_output__opt_eta_figs': {'name':'save_eta_figs', 'type': 'choice', 'default': True},\n",
    "        'model_output__opt_stage_figs': {'name':'save_stage_figs', 'type': 'choice', 'default': False},\n",
    "        'model_output__opt_depth_figs': {'name':'save_depth_figs', 'type': 'choice', 'default': False},\n",
    "        'model_output__opt_eta_grids': {'name':'save_eta_grids', 'type': 'choice', 'default': False},\n",
    "        'model_output__opt_stage_grids': {'name':'save_stage_grids', 'type': 'choice', 'default': False},\n",
    "        'model_output__opt_depth_grids': {'name':'save_depth_grids', 'type': 'choice', 'default': False},\n",
    "        'model_output__opt_time_interval': {'name':'save_dt', 'type': 'long', 'default': 10},\n",
    "        'coeff__surface_smoothing': {'name': 'Csmooth', 'type': 'float', 'default': 0.9},\n",
    "        'coeff__under_relaxation__water_surface': {'name': 'omega_sfc', 'type': 'float', 'default': 0.1},\n",
    "        'coeff__under_relaxation__water_flow': {'name': 'omega_flow', 'type': 'float', 'default': 0.9},\n",
    "        'coeff__iterations_smoothing_algorithm': {'name': 'Nsmooth', 'type': 'long', 'default': 5},\n",
    "        'coeff__depth_dependence__water': {'name': 'theta_water', 'type': 'float', 'default': 1.0},\n",
    "        'coeff__depth_dependence__sand': {'name': 'coeff_theta_sand', 'type': 'float', 'default': 2.0},\n",
    "        'coeff__depth_dependence__mud': {'name': 'coeff_theta_mud', 'type': 'float', 'default': 1.0},\n",
    "        'coeff__non_linear_exp_sed_flux_flow_velocity': {'name': 'beta', 'type': 'long', 'default': 3},\n",
    "        'coeff__sedimentation_lag': {'name': 'sed_lag', 'type': 'float', 'default': 1.0},\n",
    "        'coeff__velocity_deposition_mud': {'name': 'coeff_U_dep_mud', 'type': 'float', 'default': 0.3},\n",
    "        'coeff__velocity_erosion_mud': {'name': 'coeff_U_ero_mud', 'type': 'float', 'default': 1.5},\n",
    "        'coeff__velocity_erosion_sand': {'name': 'coeff_U_ero_sand', 'type': 'float', 'default': 1.05},\n",
    "        'coeff__topographic_diffusion': {'name': 'alpha', 'type': 'float', 'default': 0.1}\n",
    "        }\n",
    "\n",
    "\n",
    "    #############################################\n",
    "    ################### update ##################\n",
    "    #############################################\n",
    "\n",
    "    def update(self):\n",
    "        '''\n",
    "        Run the model for one full instance\n",
    "        '''\n",
    "\n",
    "        for timestep in range(self.n_steps):\n",
    "            self.run_one_timestep(timestep)\n",
    "            self.output_data(timestep)\n",
    "\n",
    "\n",
    "\n",
    "    #############################################\n",
    "    ################## __init__ #################\n",
    "    #############################################\n",
    "\n",
    "    def __init__(self):\n",
    "        '''\n",
    "        Creates an instance of the model\n",
    "\n",
    "        Sets the most commonly changed variables here\n",
    "        Calls functions to set the rest and create the domain (for cleanliness)\n",
    "        '''\n",
    "        \n",
    "        self.verbose = True\n",
    "        self.input_file = 'deltaRCM.in'\n",
    "        \n",
    "        self.create_dicts()\n",
    "        self.set_defaults()\n",
    "        self.import_file()\n",
    "        \n",
    "        self.create_other_variables()\n",
    "        self.create_domain()\n",
    "        \n",
    "        self.init_output_grids()\n",
    "\n",
    "\n",
    "\n",
    "\n",
    "delta = deltaRCM()\n",
    "delta.update()\n"
   ]
  },
  {
   "cell_type": "code",
   "execution_count": 19,
   "metadata": {
    "collapsed": false
   },
   "outputs": [
    {
     "data": {
      "text/plain": [
       "<matplotlib.colorbar.Colorbar at 0x112fa6ed0>"
      ]
     },
     "execution_count": 19,
     "metadata": {},
     "output_type": "execute_result"
    },
    {
     "data": {
      "image/png": "[encoded data removed]",
      "text/plain": [
       "<matplotlib.figure.Figure at 0x1040f5410>"
      ]
     },
     "metadata": {},
     "output_type": "display_data"
    }
   ],
   "source": [
    "plt.imshow(delta.eta[0:10,40:60], clim = (-5,-4.5))\n",
    "plt.colorbar()"
   ]
  },
  {
   "cell_type": "code",
   "execution_count": 73,
   "metadata": {
    "collapsed": false
   },
   "outputs": [],
   "source": [
    "# create netCDF file\n",
    "from netCDF4 import Dataset\n",
    "import os\n",
    "import time\n",
    "\n",
    "file_path = 'test.nc'\n",
    "\n",
    "# check that the output directory exists\n",
    "\n",
    "# if file exists, delete it\n",
    "if os.path.exists(file_path):\n",
    "    os.remove(file_path)\n",
    "    \n",
    "dataset = Dataset(file_path, 'w', format='NETCDF4_CLASSIC')\n",
    "\n",
    "dataset.description = 'Output grids from pyDeltaRCM'\n",
    "dataset.history = 'Created ' + time.ctime(time.time())\n",
    "dataset.source = 'pyDeltaRCM / CSDMS'\n",
    "\n",
    "length = dataset.createDimension('length', delta.L)\n",
    "width = dataset.createDimension('width', delta.W)\n",
    "time = dataset.createDimension('time', None)\n",
    "\n",
    "x = dataset.createVariable('x', np.float32, ('length','width'))\n",
    "y = dataset.createVariable('y', np.float32, ('length','width'))\n",
    "time_v = dataset.createVariable('time', np.int32, ('time',))\n",
    "eta = dataset.createVariable('eta', np.float32, ('time','length','width'))\n",
    "\n",
    "x.units = 'meters'\n",
    "y.units = 'meters'\n",
    "time_v.units = 'timesteps'\n",
    "\n",
    "x[:] = delta.x\n",
    "y[:] = delta.y"
   ]
  },
  {
   "cell_type": "code",
   "execution_count": 71,
   "metadata": {
    "collapsed": false
   },
   "outputs": [],
   "source": [
    "shape = dataset['eta'].shape\n",
    "dataset['eta'][shape[0],:,:] = delta.eta"
   ]
  },
  {
   "cell_type": "code",
   "execution_count": 72,
   "metadata": {
    "collapsed": false
   },
   "outputs": [
    {
     "data": {
      "text/plain": [
       "(3, 50, 100)"
      ]
     },
     "execution_count": 72,
     "metadata": {},
     "output_type": "execute_result"
    }
   ],
   "source": [
    "dataset['eta'].shape"
   ]
  },
  {
   "cell_type": "code",
   "execution_count": 70,
   "metadata": {
    "collapsed": false
   },
   "outputs": [
    {
     "data": {
      "text/plain": [
       "(50, 100)"
      ]
     },
     "execution_count": 70,
     "metadata": {},
     "output_type": "execute_result"
    }
   ],
   "source": [
    "delta.eta.shape"
   ]
  },
  {
   "cell_type": "code",
   "execution_count": null,
   "metadata": {
    "collapsed": true
   },
   "outputs": [],
   "source": []
  }
 ],
 "metadata": {
  "kernelspec": {
   "display_name": "Python 2",
   "language": "python",
   "name": "python2"
  },
  "language_info": {
   "codemirror_mode": {
    "name": "ipython",
    "version": 2
   },
   "file_extension": ".py",
   "mimetype": "text/x-python",
   "name": "python",
   "nbconvert_exporter": "python",
   "pygments_lexer": "ipython2",
   "version": "2.7.11"
  }
 },
 "nbformat": 4,
 "nbformat_minor": 0
}
